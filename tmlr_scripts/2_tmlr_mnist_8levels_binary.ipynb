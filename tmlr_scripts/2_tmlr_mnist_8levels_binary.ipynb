{
 "cells": [
  {
   "attachments": {},
   "cell_type": "markdown",
   "metadata": {},
   "source": [
    "## A Measure of the Complexity of Neural Representations based on Partial Information Decomposition\n",
    "David A. Ehrlich, Andreas C. Schneider, Viola Priesemann, Michael Wibral, Abdullah Makkeh. TMLR 2023.\\\n",
    "Supplementary Code -  Script 2/5\n",
    "### Training and evaluating the 8-level-quantized, binary output MNIST network (Figure 4.A)"
   ]
  },
  {
   "cell_type": "code",
   "execution_count": null,
   "metadata": {},
   "outputs": [],
   "source": [
    "%load_ext autoreload\n",
    "%autoreload 2"
   ]
  },
  {
   "cell_type": "code",
   "execution_count": null,
   "metadata": {},
   "outputs": [],
   "source": [
    "import time\n",
    "\n",
    "import matplotlib.pyplot as plt\n",
    "import matplotlib.ticker as ticker\n",
    "from mpl_toolkits.axes_grid1.inset_locator import inset_axes\n",
    "cm = 1/2.54  # centimeters to inches\n",
    "\n",
    "import nninfo"
   ]
  },
  {
   "attachments": {},
   "cell_type": "markdown",
   "metadata": {},
   "source": [
    "### Train network"
   ]
  },
  {
   "cell_type": "code",
   "execution_count": null,
   "metadata": {},
   "outputs": [],
   "source": [
    "# Set experiment id\n",
    "experiment_id = \"mnist_8levels_binary\""
   ]
  },
  {
   "attachments": {},
   "cell_type": "markdown",
   "metadata": {},
   "source": [
    "#### Set up parameters and train first network"
   ]
  },
  {
   "cell_type": "code",
   "execution_count": null,
   "metadata": {},
   "outputs": [],
   "source": [
    "# Note that we do not set initial seeds manually here, but save all seeds to the\n",
    "# checkpoints files during training for later reproducibility. Rerunning this script\n",
    "# will produce slightly different figures due to the randomness of network\n",
    "# initialization etc.\n",
    "\n",
    "layer_infos = [\n",
    "    nninfo.LayerInfo(connection_layer='input', activation_function='input'),\n",
    "    nninfo.LayerInfo(connection_layer='linear', connection_layer_kwargs={'in_features': 784, 'out_features': 50}, activation_function='tanh'),\n",
    "    nninfo.LayerInfo(connection_layer='linear', connection_layer_kwargs={'in_features': 50, 'out_features': 10}, activation_function='tanh'),\n",
    "    nninfo.LayerInfo(connection_layer='linear', connection_layer_kwargs={'in_features': 10, 'out_features': 5}, activation_function='tanh'),\n",
    "    nninfo.LayerInfo(connection_layer='linear', connection_layer_kwargs={'in_features': 5, 'out_features': 5}, activation_function='tanh'),\n",
    "    nninfo.LayerInfo(connection_layer='linear', connection_layer_kwargs={'in_features': 5, 'out_features': 5}, activation_function='tanh'),\n",
    "    nninfo.LayerInfo(connection_layer='linear', connection_layer_kwargs={'in_features': 5, 'out_features': 4}, activation_function='sigmoid')\n",
    "]\n",
    "\n",
    "# Set weight initialization\n",
    "initializer_name = 'xavier'\n",
    "\n",
    "# Create network instance\n",
    "network = nninfo.NeuralNetwork(layer_infos=layer_infos,\n",
    "                               init_str=initializer_name)\n",
    "\n",
    "# Set task instance\n",
    "task = nninfo.TaskManager('mnist_binary_dat')\n",
    "# Split dataset into MNIST training set, and MNIST+QMNIST test set\n",
    "task['full_set'].train_test_val_sequential_split(60_000, 60_000, 0)\n",
    "\n",
    "# Create quantizer list with stochastic quantization. The input layer is not quantized.\n",
    "quantizer = [None] + 5 * [{'levels': 8, 'rounding_point': 'stochastic'}] + [None]\n",
    "\n",
    "trainer = nninfo.Trainer(dataset_name='full_set/train',\n",
    "                         optim_str='SGD',\n",
    "                         loss_str='MSELoss',\n",
    "                         lr=0.01,\n",
    "                         shuffle=True,\n",
    "                         batch_size=64,\n",
    "                         quantizer=quantizer)\n",
    "\n",
    "tester = nninfo.Tester(dataset_name='full_set/test')\n",
    "\n",
    "\n",
    "schedule = nninfo.Schedule()\n",
    "# Save training state for 50 logarithmically spaced checkpoints\n",
    "schedule.create_log_spaced_chapters(100_000, 50)\n",
    "\n",
    "# Combine components into experiment\n",
    "experiment = nninfo.Experiment(experiment_id=experiment_id,\n",
    "                        network=network,\n",
    "                        task=task,\n",
    "                        trainer=trainer,\n",
    "                        tester=tester,\n",
    "                        schedule=schedule)\n",
    "\n",
    "# Run training for 10^5 epochs\n",
    "experiment.run_following_schedule()"
   ]
  },
  {
   "attachments": {},
   "cell_type": "markdown",
   "metadata": {},
   "source": [
    "#### Rerun training with different random weight initializations"
   ]
  },
  {
   "cell_type": "code",
   "execution_count": null,
   "metadata": {},
   "outputs": [],
   "source": [
    "# Set up experiment\n",
    "exp = nninfo.Experiment.load(experiment_id)\n",
    "\n",
    "# Compute 19 more training runs with different random weight initializations.\n",
    "exp.rerun(19)"
   ]
  },
  {
   "attachments": {},
   "cell_type": "markdown",
   "metadata": {},
   "source": [
    "### Evaluate network performance\n",
    "#### Compute loss and accuracy"
   ]
  },
  {
   "cell_type": "code",
   "execution_count": null,
   "metadata": {},
   "outputs": [],
   "source": [
    "quantizer_params = [None] + 5 * [{'levels': 8, 'rounding_point': 'center_saturating'}] + [None]\n",
    "\n",
    "experiment = nninfo.Experiment.load(experiment_id)\n",
    "performance_measurement = nninfo.analysis.PerformanceMeasurement(experiment, ['full_set/train', 'full_set/test'], quantizer_params=quantizer_params)\n",
    "\n",
    "performance_measurement.perform_measurements(run_ids='all', chapter_ids='all', exists_ok=True)"
   ]
  },
  {
   "attachments": {},
   "cell_type": "markdown",
   "metadata": {},
   "source": [
    "#### Plot loss and accuracy"
   ]
  },
  {
   "cell_type": "code",
   "execution_count": null,
   "metadata": {},
   "outputs": [],
   "source": [
    "# Load performance file\n",
    "experiment = nninfo.Experiment.load(experiment_id)\n",
    "performance_measurement = nninfo.analysis.PerformanceMeasurement.load(experiment, \"performance\")\n",
    "\n",
    "fig, ax = plt.subplots(figsize=(4*cm, 4*cm), dpi=150)\n",
    "ax.set_ylim(0, 1)\n",
    "twinax = ax.twinx()\n",
    "\n",
    "# Plot accuracy\n",
    "nninfo.plot.plot_loss_accuracy(performance_measurement.results, ax, twinax)\n",
    "\n",
    "ax.legend(ncol=1, bbox_to_anchor=(1.5, 0.5), loc='center left');"
   ]
  },
  {
   "cell_type": "code",
   "execution_count": null,
   "metadata": {},
   "outputs": [],
   "source": [
    "# Save result\n",
    "plt.savefig(f\"experiments/exp_{experiment_id}/plots/performance.pdf\", bbox_inches='tight')"
   ]
  },
  {
   "attachments": {},
   "cell_type": "markdown",
   "metadata": {},
   "source": [
    "### Perform quintivariate PID on hidden layers $L_3$, $L_4$ and $L_5$"
   ]
  },
  {
   "cell_type": "code",
   "execution_count": null,
   "metadata": {},
   "outputs": [],
   "source": [
    "# Load experiment\n",
    "experiment = nninfo.Experiment.load(experiment_id)\n",
    "\n",
    "for layer in [3, 4, 5]:\n",
    "\n",
    "    target = [nninfo.NeuronID('Y', (1,))]\n",
    "    source1 = [nninfo.NeuronID(f'L{layer}', (1,))]\n",
    "    source2 = [nninfo.NeuronID(f'L{layer}', (2,))]\n",
    "    source3 = [nninfo.NeuronID(f'L{layer}', (3,))]\n",
    "    source4 = [nninfo.NeuronID(f'L{layer}', (4,))]\n",
    "    source5 = [nninfo.NeuronID(f'L{layer}', (5,))]\n",
    "\n",
    "    # Create quantizer list for deterministic rounding.\n",
    "    quantization_dict = [None] + 5 * [{'levels': 8, 'rounding_point': 'center_saturating'}] + [None]\n",
    "\n",
    "    measurement = nninfo.analysis.PIDMeasurement(experiment=experiment,\n",
    "                                                 measurement_id=f'pid_measurement_L{layer}',\n",
    "                                                 dataset_name='full_set/train',\n",
    "                                                 quantizer_params=quantization_dict,\n",
    "                                                 pid_definition='sxpid',\n",
    "                                                 binning_kwargs={'binning_method' : 'none'},\n",
    "                                                 target_id_list=target,\n",
    "                                                 source_id_lists=[source1, source2, source3, source4, source5])\n",
    "\n",
    "    itic = time.time_ns()\n",
    "    measurement.perform_measurements(run_ids='all', chapter_ids='all', exists_ok=True)\n",
    "    itoc = time.time_ns()\n",
    "\n",
    "    print(f\"Computing PID for L{layer} took: \", (itoc-itic)/10**9, \"s\")"
   ]
  },
  {
   "attachments": {},
   "cell_type": "markdown",
   "metadata": {},
   "source": [
    "### Compute representational complexity and plot results"
   ]
  },
  {
   "cell_type": "code",
   "execution_count": null,
   "metadata": {},
   "outputs": [],
   "source": [
    "from nninfo.postprocessing.pid_postprocessing import get_pid_summary_quantities\n",
    "\n",
    "cm = 1/2.54\n",
    "fig, ax= plt.subplots(figsize=(5*cm, 4*cm), dpi=150)\n",
    "inset_axis = inset_axes(ax, width=0.7, height=0.4)\n",
    "\n",
    "# Load experiment\n",
    "experiment = nninfo.experiment.Experiment.load(experiment_id)\n",
    "\n",
    "# Plot accuracy on inset axis\n",
    "performance_measurement = nninfo.analysis.PerformanceMeasurement.load(experiment, 'performance')\n",
    "nninfo.plot.plot_accuracy(performance_measurement.results, 'full_set/train', inset_axis, c='k', label='Train')\n",
    "nninfo.plot.plot_accuracy(performance_measurement.results, 'full_set/test', inset_axis, c='k', ls='--', label='Test')\n",
    "inset_axis.set_ylim(0, 1)\n",
    "inset_axis.set_ylabel('Acc.')\n",
    "inset_axis.legend(bbox_to_anchor=(1.1, 1.3), loc='upper left')\n",
    "    \n",
    "for layer in [3, 4, 5]:\n",
    "    measurement_loaded = nninfo.analysis.PIDMeasurement.load(experiment=experiment, measurement_id=f'pid_L{layer}')\n",
    "    pid_summary = get_pid_summary_quantities(measurement_loaded.results)\n",
    "    nninfo.plot.plot_representational_complexity(pid_summary, ax, label=f'Layer {layer}')\n",
    "\n",
    "ax.yaxis.set_minor_locator(ticker.MultipleLocator(0.25))\n",
    "\n",
    "ax.set_xlabel('Training Epoch')\n",
    "ax.set_ylabel(r'Repr. Compl. $C$')\n",
    "\n",
    "ax.legend(bbox_to_anchor=(1, .6), loc='upper left')\n",
    "\n",
    "ax.set_ylim(1, 4)\n",
    "ax.set_yticks([1, 2, 3])\n",
    "ax.set_yticklabels(['1', '2', '3']);"
   ]
  },
  {
   "cell_type": "code",
   "execution_count": null,
   "metadata": {},
   "outputs": [],
   "source": [
    "# Save results\n",
    "plt.savefig(f\"experiments/exp_{experiment_id}/plots/representational_complexity.pdf\", bbox_inches='tight')"
   ]
  }
 ],
 "metadata": {
  "kernelspec": {
   "display_name": "nninfo",
   "language": "python",
   "name": "python3"
  },
  "language_info": {
   "codemirror_mode": {
    "name": "ipython",
    "version": 3
   },
   "file_extension": ".py",
   "mimetype": "text/x-python",
   "name": "python",
   "nbconvert_exporter": "python",
   "pygments_lexer": "ipython3",
   "version": "3.10.10"
  },
  "vscode": {
   "interpreter": {
    "hash": "eb676ebef6b5cf8ce51c716d153b38a6d674dadf41aeaecb86761f2bdfa1f1da"
   }
  }
 },
 "nbformat": 4,
 "nbformat_minor": 2
}
